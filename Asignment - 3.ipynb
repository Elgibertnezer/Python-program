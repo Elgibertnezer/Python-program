{
 "cells": [
  {
   "cell_type": "markdown",
   "metadata": {},
   "source": [
    "#  1-  writing a program in python for opening a file and writing\n",
    "#\" ilove letupgrade\" and close it. and read it back again , and then append some data to it and closed it\n"
   ]
  },
  {
   "cell_type": "code",
   "execution_count": 45,
   "metadata": {},
   "outputs": [],
   "source": [
    "abc=open(\"asignment.txt\",\"w\")\n",
    "abc.write(\"i love letsupgrade. \")\n",
    "abc.close()"
   ]
  },
  {
   "cell_type": "code",
   "execution_count": 55,
   "metadata": {},
   "outputs": [
    {
     "name": "stdout",
     "output_type": "stream",
     "text": [
      "i love letsupgrade. letsupgrade help us to learn file handlingletsupgrade help us to learn file handling\n"
     ]
    }
   ],
   "source": [
    "def reader():\n",
    "    abc=open('asignment.txt','r')\n",
    "    content=abc.read()\n",
    "    print(content)\n",
    "    abc.close()\n"
   ]
  },
  {
   "cell_type": "code",
   "execution_count": 51,
   "metadata": {},
   "outputs": [],
   "source": [
    "abc=open(\"asignment.txt\",\"a\")\n",
    "abc.write(\"letsupgrade help me to learn file handling\")\n",
    "abc.close()"
   ]
  },
  {
   "cell_type": "code",
   "execution_count": 58,
   "metadata": {},
   "outputs": [
    {
     "name": "stdout",
     "output_type": "stream",
     "text": [
      "i love letsupgrade. letsupgrade help me to learn file handlingletsupgrade help me to learn file handling. letsupgrade help me to learn file handling. \n"
     ]
    }
   ],
   "source": [
    "reader()"
   ]
  },
  {
   "cell_type": "code",
   "execution_count": 26,
   "metadata": {},
   "outputs": [
    {
     "ename": "NameError",
     "evalue": "name 'content' is not defined",
     "output_type": "error",
     "traceback": [
      "\u001b[1;31m---------------------------------------------------------------------------\u001b[0m",
      "\u001b[1;31mNameError\u001b[0m                                 Traceback (most recent call last)",
      "\u001b[1;32m<ipython-input-26-7fe70820e08a>\u001b[0m in \u001b[0;36m<module>\u001b[1;34m\u001b[0m\n\u001b[1;32m----> 1\u001b[1;33m \u001b[0mcontent\u001b[0m\u001b[1;33m\u001b[0m\u001b[1;33m\u001b[0m\u001b[0m\n\u001b[0m",
      "\u001b[1;31mNameError\u001b[0m: name 'content' is not defined"
     ]
    }
   ],
   "source": []
  },
  {
   "cell_type": "markdown",
   "metadata": {},
   "source": [
    "# 2 . wrirte  a function which can return a list of factorial of any number , given in the argument.\n",
    "#fact(3)\n",
    "#[9,6,3,0]"
   ]
  },
  {
   "cell_type": "code",
   "execution_count": 79,
   "metadata": {},
   "outputs": [],
   "source": [
    "   def factorial(n):\n",
    "        if n==1:\n",
    "            return n\n",
    "        else:\n",
    "            return n*factorial(n-1)\n",
    "        "
   ]
  },
  {
   "cell_type": "code",
   "execution_count": 81,
   "metadata": {},
   "outputs": [
    {
     "name": "stdout",
     "output_type": "stream",
     "text": [
      "enter the number : 7\n",
      "the factorial of  7 is 5040\n"
     ]
    }
   ],
   "source": [
    "num=int(input('enter the number : '))\n",
    "if num<0:\n",
    "    print(' the number that you enter must be posistive:')\n",
    "elif num==0:\n",
    "    print(\"the factorial of zero 0 is 1\")\n",
    "else:\n",
    "    print('the factorial of ',num,\"is\",factorial(num))"
   ]
  },
  {
   "cell_type": "code",
   "execution_count": null,
   "metadata": {},
   "outputs": [],
   "source": []
  }
 ],
 "metadata": {
  "kernelspec": {
   "display_name": "Python 3",
   "language": "python",
   "name": "python3"
  },
  "language_info": {
   "codemirror_mode": {
    "name": "ipython",
    "version": 3
   },
   "file_extension": ".py",
   "mimetype": "text/x-python",
   "name": "python",
   "nbconvert_exporter": "python",
   "pygments_lexer": "ipython3",
   "version": "3.8.5"
  }
 },
 "nbformat": 4,
 "nbformat_minor": 4
}
