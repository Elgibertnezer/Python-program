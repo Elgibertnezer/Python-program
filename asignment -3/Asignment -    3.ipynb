{
 "cells": [
  {
   "cell_type": "markdown",
   "metadata": {},
   "source": [
    "# 1- writing a program in python for opening a file and writing\n",
    "#\" ilove letupgrade\" and close it. and read it back again ,\n",
    "and then append some data to it and closed it"
   ]
  },
  {
   "cell_type": "code",
   "execution_count": 48,
   "metadata": {},
   "outputs": [],
   "source": [
    "abc=open(\"asignment.txt\",\"w\")\n",
    "abc.write(\"I love letsupgrade. \")\n",
    "abc.close()"
   ]
  },
  {
   "cell_type": "code",
   "execution_count": 49,
   "metadata": {},
   "outputs": [
    {
     "name": "stdout",
     "output_type": "stream",
     "text": [
      "I love letsupgrade. \n"
     ]
    }
   ],
   "source": [
    "abc=open(\"asignment.txt\",\"r\")\n",
    "content=abc.read()\n",
    "print(content)\n",
    "abc.close()\n",
    "\n"
   ]
  },
  {
   "cell_type": "code",
   "execution_count": 50,
   "metadata": {},
   "outputs": [],
   "source": [
    "abc=open(\"asignment.txt\",\"a\")\n",
    "abc.write(\"letsupgrade help me to learn file handling. \")\n",
    "abc.close()"
   ]
  },
  {
   "cell_type": "code",
   "execution_count": 51,
   "metadata": {},
   "outputs": [
    {
     "name": "stdout",
     "output_type": "stream",
     "text": [
      "I love letsupgrade. letsupgrade help me to learn file handling. \n"
     ]
    }
   ],
   "source": [
    "abc=open(\"asignment.txt\",\"r\")\n",
    "content=abc.read()\n",
    "print(content)\n",
    "abc.close()"
   ]
  },
  {
   "cell_type": "markdown",
   "metadata": {},
   "source": [
    "# 2 . wrirte  a function which can return a list of factorial of any number , given in the argument.\n"
   ]
  },
  {
   "cell_type": "code",
   "execution_count": 33,
   "metadata": {},
   "outputs": [],
   "source": [
    "   def factorial(n):\n",
    "        if n==1:\n",
    "            return n\n",
    "        else:\n",
    "            return n*factorial(n-1)"
   ]
  },
  {
   "cell_type": "code",
   "execution_count": 35,
   "metadata": {},
   "outputs": [
    {
     "name": "stdout",
     "output_type": "stream",
     "text": [
      "enter the number : 3\n",
      "the factorial of  3 is 6\n"
     ]
    }
   ],
   "source": [
    "num=int(input('enter the number : '))\n",
    "if num<0:\n",
    "    print(' the number that you enter must be posistive:')\n",
    "elif num==0:\n",
    "    print(\"the factorial of zero 0 is 1\")\n",
    "else:\n",
    "    print('the factorial of ',num,\"is\",factorial(num))"
   ]
  },
  {
   "cell_type": "code",
   "execution_count": null,
   "metadata": {},
   "outputs": [],
   "source": []
  }
 ],
 "metadata": {
  "kernelspec": {
   "display_name": "Python 3",
   "language": "python",
   "name": "python3"
  },
  "language_info": {
   "codemirror_mode": {
    "name": "ipython",
    "version": 3
   },
   "file_extension": ".py",
   "mimetype": "text/x-python",
   "name": "python",
   "nbconvert_exporter": "python",
   "pygments_lexer": "ipython3",
   "version": "3.8.5"
  }
 },
 "nbformat": 4,
 "nbformat_minor": 4
}
